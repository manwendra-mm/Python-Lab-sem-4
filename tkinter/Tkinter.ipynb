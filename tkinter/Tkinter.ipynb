{
 "cells": [
  {
   "cell_type": "code",
   "execution_count": null,
   "metadata": {},
   "outputs": [],
   "source": [
    "#Using Tkinter Library\n",
    "\n",
    "from tkinter import *\n",
    "root = Tk()\n",
    "root.title(\"Hello Python\")\n",
    "#root.config(bg=\"blue\")\n",
    "class MyWindow:\n",
    "    def __init__(self, master):\n",
    "        #1st Number\n",
    "        self.l1 = Label(master, text = \"Enter 1st Number: \", font = (\"arial\", 15, \"bold\"))\n",
    "        self.l1.place(x=10, y=50)\n",
    "\n",
    "        self.t1 = Entry(bd = 3, font = (\"arial\", 12, \"bold\"))\n",
    "        self.t1.place(x=200, y=50)\n",
    "        \n",
    "        #2nd Number\n",
    "        self.l1 = Label(master, text = \"Enter 2st Number: \", font = (\"arial\", 15, \"bold\"))\n",
    "        self.l1.place(x=10, y=100)\n",
    "        \n",
    "        self.t1 = Entry(bd = 3, font = (\"arial\", 12, \"bold\"))\n",
    "        self.t1.place(x=200, y=100)\n",
    "        \n",
    "        #Sum\n",
    "        self.l1 = Label(master, text = \"Sum: \", font = (\"arial\", 15, \"bold\"))\n",
    "        self.l1.place(x=10, y=150)\n",
    "        \n",
    "        self.t1 = Entry(bd = 3, font = (\"arial\", 12, \"bold\"))\n",
    "        self.t1.place(x=200, y=150)\n",
    "        \n",
    "        self.b1 = Button(master, width = 10, text = \"Add\", command=self.add, font = (\"arial\", 10, \"bold\"), bg = \"grey\")\n",
    "        self.b1.place(x=150, y= 200)\n",
    "    \n",
    "    def add(self):\n",
    "        print(\"Hello\")\n",
    "        \n",
    "    def sum(self):\n",
    "        print(\"The Sum is: \", self.t1+self.t2)\n",
    "        \n",
    "        \n",
    "mywin = MyWindow(root)\n",
    "root.mainloop()\n"
   ]
  },
  {
   "cell_type": "code",
   "execution_count": null,
   "metadata": {},
   "outputs": [],
   "source": []
  }
 ],
 "metadata": {
  "kernelspec": {
   "display_name": "Python 3 (ipykernel)",
   "language": "python",
   "name": "python3"
  },
  "language_info": {
   "codemirror_mode": {
    "name": "ipython",
    "version": 3
   },
   "file_extension": ".py",
   "mimetype": "text/x-python",
   "name": "python",
   "nbconvert_exporter": "python",
   "pygments_lexer": "ipython3",
   "version": "3.9.12"
  }
 },
 "nbformat": 4,
 "nbformat_minor": 2
}
