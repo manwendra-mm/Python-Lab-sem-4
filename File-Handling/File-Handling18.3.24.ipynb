{
 "cells": [
  {
   "cell_type": "code",
   "execution_count": 14,
   "id": "5d235da4",
   "metadata": {},
   "outputs": [
    {
     "name": "stdout",
     "output_type": "stream",
     "text": [
      "All Students are Student\n",
      "The current cursor position 24\n",
      "The current cursor position 17\n",
      "Data after Modifying\n",
      "All Students are GEMS!!!\n"
     ]
    }
   ],
   "source": [
    "data = \"All Students are Student\"\n",
    "f = open(\"abc.txt\", 'w')\n",
    "f.write(data)\n",
    "with open (\"abc.txt\", 'r+') as f:\n",
    "    text = f.read()\n",
    "    print(text)\n",
    "    print(\"The current cursor position\", f.tell())\n",
    "    f.seek(17)\n",
    "    print(\"The current cursor position\", f.tell())\n",
    "    f.write(\"GEMS!!!\")\n",
    "    f.seek(0)\n",
    "    text = f.read()\n",
    "    print(\"Data after Modifying\")\n",
    "    print(text)\n"
   ]
  },
  {
   "cell_type": "code",
   "execution_count": 15,
   "id": "c41a2d3e",
   "metadata": {},
   "outputs": [
    {
     "name": "stdout",
     "output_type": "stream",
     "text": [
      "Enter file name: abc.txt\n",
      "File exists:  abc.txt\n",
      "The Content of the file is: \n",
      "All Students are GEMS!!!\n"
     ]
    }
   ],
   "source": [
    "import os\n",
    "fname = input(\"Enter file name: \")\n",
    "if os.path.isfile(fname):\n",
    "    print(\"File exists: \", fname)\n",
    "    f = open(fname, 'r')\n",
    "    print(\"The Content of the file is: \")\n",
    "    text = f.read()\n",
    "    print (text)\n",
    "else: \n",
    "    print(\"File does not exist: \", fname)"
   ]
  },
  {
   "cell_type": "code",
   "execution_count": null,
   "id": "dde4e489",
   "metadata": {},
   "outputs": [],
   "source": []
  }
 ],
 "metadata": {
  "kernelspec": {
   "display_name": "Python 3 (ipykernel)",
   "language": "python",
   "name": "python3"
  },
  "language_info": {
   "codemirror_mode": {
    "name": "ipython",
    "version": 3
   },
   "file_extension": ".py",
   "mimetype": "text/x-python",
   "name": "python",
   "nbconvert_exporter": "python",
   "pygments_lexer": "ipython3",
   "version": "3.11.4"
  }
 },
 "nbformat": 4,
 "nbformat_minor": 5
}
